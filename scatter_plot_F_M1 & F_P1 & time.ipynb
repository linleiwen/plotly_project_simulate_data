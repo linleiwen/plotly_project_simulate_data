{
 "cells": [
  {
   "cell_type": "code",
   "execution_count": null,
   "metadata": {},
   "outputs": [],
   "source": [
    "import numpy as np\n",
    "import pandas as pd\n",
    "import plotly.offline as pyo\n",
    "from plotly.graph_objs import * \n",
    "import plotly.plotly as py\n",
    "pyo.offline.init_notebook_mode()"
   ]
  },
  {
   "cell_type": "markdown",
   "metadata": {},
   "source": [
    "read pickle"
   ]
  },
  {
   "cell_type": "code",
   "execution_count": null,
   "metadata": {
    "collapsed": true
   },
   "outputs": [],
   "source": [
    "dataset1 = pd.read_pickle('F_pickle') \n",
    "dataset2 = pd.read_pickle('M_pickle')"
   ]
  },
  {
   "cell_type": "code",
   "execution_count": null,
   "metadata": {
    "collapsed": true
   },
   "outputs": [],
   "source": [
    "data1 = pd.DataFrame(dataset1)\n",
    "data2 = pd.DataFrame(dataset2)\n"
   ]
  },
  {
   "cell_type": "markdown",
   "metadata": {},
   "source": [
    "rename variables."
   ]
  },
  {
   "cell_type": "code",
   "execution_count": null,
   "metadata": {
    "collapsed": true
   },
   "outputs": [],
   "source": [
    "data1.columns = ['F_M1','F_M2','F_P1','F_p2']\n",
    "data2.columns = ['M_M1','M_M2']"
   ]
  },
  {
   "cell_type": "markdown",
   "metadata": {},
   "source": [
    "merge by index."
   ]
  },
  {
   "cell_type": "code",
   "execution_count": null,
   "metadata": {
    "collapsed": true
   },
   "outputs": [],
   "source": [
    "data = pd.merge(data1,data2,left_index=True,right_index=True) \n",
    "data_pure = data.dropna(axis = 0 , how = 'any' )"
   ]
  },
  {
   "cell_type": "code",
   "execution_count": null,
   "metadata": {
    "collapsed": true
   },
   "outputs": [],
   "source": [
    "data_pure = data_pure.reset_index()"
   ]
  },
  {
   "cell_type": "code",
   "execution_count": null,
   "metadata": {
    "collapsed": true
   },
   "outputs": [],
   "source": [
    "data_pure = data_pure.rename(columns={'index':'time'})"
   ]
  },
  {
   "cell_type": "code",
   "execution_count": null,
   "metadata": {
    "collapsed": true
   },
   "outputs": [],
   "source": [
    "data_month = data_pure.copy()"
   ]
  },
  {
   "cell_type": "code",
   "execution_count": null,
   "metadata": {
    "collapsed": true
   },
   "outputs": [],
   "source": [
    "from pandas.tseries.offsets import *"
   ]
  },
  {
   "cell_type": "code",
   "execution_count": null,
   "metadata": {
    "collapsed": true
   },
   "outputs": [],
   "source": [
    "data_year =data_pure.copy()\n",
    "data_quarter = data_pure.copy()"
   ]
  },
  {
   "cell_type": "code",
   "execution_count": null,
   "metadata": {
    "collapsed": true
   },
   "outputs": [],
   "source": [
    "data_quarter.time = data_quarter.time+QuarterEnd()"
   ]
  },
  {
   "cell_type": "code",
   "execution_count": null,
   "metadata": {
    "collapsed": true
   },
   "outputs": [],
   "source": [
    "data_quarter = data_quarter.groupby(by='time').median()"
   ]
  },
  {
   "cell_type": "code",
   "execution_count": null,
   "metadata": {
    "collapsed": true
   },
   "outputs": [],
   "source": [
    "data_quarter.reset_index(inplace=True)"
   ]
  },
  {
   "cell_type": "code",
   "execution_count": null,
   "metadata": {
    "collapsed": true
   },
   "outputs": [],
   "source": [
    "data_year.time = data_year.time+YearEnd()"
   ]
  },
  {
   "cell_type": "code",
   "execution_count": null,
   "metadata": {
    "collapsed": true
   },
   "outputs": [],
   "source": [
    "data_year = data_year.groupby(by='time').median()"
   ]
  },
  {
   "cell_type": "code",
   "execution_count": null,
   "metadata": {
    "collapsed": true
   },
   "outputs": [],
   "source": [
    "data_year.reset_index(inplace=True)"
   ]
  },
  {
   "cell_type": "code",
   "execution_count": null,
   "metadata": {},
   "outputs": [],
   "source": [
    "data_year"
   ]
  },
  {
   "cell_type": "markdown",
   "metadata": {},
   "source": [
    "For F_M1"
   ]
  },
  {
   "cell_type": "code",
   "execution_count": null,
   "metadata": {},
   "outputs": [],
   "source": [
    "trace = {'type' : 'scatter',\n",
    "              'x' : data_month['time'],\n",
    "              'y' : data_month['F_M1'],\n",
    "              'line' : {'smoothing' : 1.3,\n",
    "             'shape' : 'spline'},\n",
    "              'mode' : 'lines',\n",
    "              'name' : 'F_M1 values',\n",
    "              'fill' : 'tozeroy',\n",
    "             'fillcolor':'rgba(194, 240, 240,0.7)'}\n",
    "\n",
    "layout = {'title' : \"Relationship of F_M1 with time on month granularity\",\n",
    "         'xaxis' : {'title' : 'time'},\n",
    "         'yaxis' : {'title' : 'F_M1 values'}}\n",
    "\n",
    "data = Data([trace])\n",
    "\n",
    "fig = Figure(data=data, layout=layout)\n",
    "\n",
    "pyo.iplot(fig)"
   ]
  },
  {
   "cell_type": "code",
   "execution_count": null,
   "metadata": {},
   "outputs": [],
   "source": [
    "py.plot(fig, filename=\"Relationship of F_M1 with time on month granularity\" ,fileopt=\"overwrite\")"
   ]
  },
  {
   "cell_type": "code",
   "execution_count": null,
   "metadata": {},
   "outputs": [],
   "source": [
    "fig[\"data\"].update({ 'x' : data_quarter.time,\n",
    "              'y' : data_quarter['F_M1']})\n",
    "fig[\"layout\"].update({'title' : \"Relationship of F_M1 with time on quarter granularity\"\n",
    "})\n",
    "pyo.iplot(fig)"
   ]
  },
  {
   "cell_type": "code",
   "execution_count": null,
   "metadata": {},
   "outputs": [],
   "source": [
    "py.plot(fig, filename=\"Relationship of F_M1 with time on quarter granularity\" ,fileopt=\"overwrite\")"
   ]
  },
  {
   "cell_type": "code",
   "execution_count": null,
   "metadata": {},
   "outputs": [],
   "source": [
    "data_year"
   ]
  },
  {
   "cell_type": "code",
   "execution_count": null,
   "metadata": {},
   "outputs": [],
   "source": [
    "fig[\"data\"].update({ 'x' : data_year.time,\n",
    "              'y' : data_year['F_M1']})\n",
    "fig[\"layout\"].update({'title' : \"Relationship of F_M1 with time on year granularity\"\n",
    "})\n",
    "pyo.iplot(fig)"
   ]
  },
  {
   "cell_type": "code",
   "execution_count": null,
   "metadata": {},
   "outputs": [],
   "source": [
    "py.plot(fig, filename=\"Relationship of F_M1 with time on year granularity\" ,fileopt=\"overwrite\")"
   ]
  },
  {
   "cell_type": "markdown",
   "metadata": {},
   "source": [
    "For 'F_P1'"
   ]
  },
  {
   "cell_type": "code",
   "execution_count": null,
   "metadata": {},
   "outputs": [],
   "source": [
    "fig[\"data\"].update({ 'x' : data_month.time,\n",
    "              'y' : data_month['F_P1']})\n",
    "fig[\"layout\"].update({'title' : \"Relationship of F_P1 with time on month granularity\"\n",
    "})\n",
    "pyo.iplot(fig)"
   ]
  },
  {
   "cell_type": "code",
   "execution_count": null,
   "metadata": {},
   "outputs": [],
   "source": [
    "py.plot(fig, filename=\"Relationship of F_P1 with time on month granularity\" ,fileopt=\"overwrite\")"
   ]
  },
  {
   "cell_type": "code",
   "execution_count": null,
   "metadata": {},
   "outputs": [],
   "source": [
    "fig[\"data\"].update({ 'x' : data_quarter.time,\n",
    "              'y' : data_quarter['F_P1']})\n",
    "fig[\"layout\"].update({'title' : \"Relationship of F_P1 with time on quarter granularity\"\n",
    "})\n",
    "pyo.iplot(fig)"
   ]
  },
  {
   "cell_type": "code",
   "execution_count": null,
   "metadata": {},
   "outputs": [],
   "source": [
    "py.plot(fig, filename=\"Relationship of F_P1 with time on quarter granularity\" ,fileopt=\"overwrite\")"
   ]
  },
  {
   "cell_type": "code",
   "execution_count": null,
   "metadata": {},
   "outputs": [],
   "source": [
    "fig[\"data\"].update({ 'x' : data_year.time,\n",
    "              'y' : data_year['F_P1']})\n",
    "fig[\"layout\"].update({'title' : \"Relationship of F_P1 with time on year granularity\"\n",
    "})\n",
    "pyo.iplot(fig)"
   ]
  },
  {
   "cell_type": "code",
   "execution_count": null,
   "metadata": {},
   "outputs": [],
   "source": [
    "py.plot(fig, filename=\"Relationship of F_P1 with time on year granularity\" ,fileopt=\"overwrite\")"
   ]
  },
  {
   "cell_type": "markdown",
   "metadata": {},
   "source": [
    "For F_M1 & F_P1"
   ]
  },
  {
   "cell_type": "markdown",
   "metadata": {},
   "source": [
    "Exclude the first three month outliers."
   ]
  },
  {
   "cell_type": "code",
   "execution_count": null,
   "metadata": {},
   "outputs": [],
   "source": [
    "trace1 = {'type' : 'scatter',\n",
    "              'x' : data_month['F_M1'][3:],\n",
    "              'y' : data_month['F_P1'][3:],\n",
    "              'mode' : 'markers+lines',\n",
    "              'name' : 'F_M1 & F_P1',\n",
    "              'marker':{'line':{'color':'red',\n",
    "                        'width':5}}}\n",
    "\n",
    "layout1 = {'title' : \"Relationship of F_M1 and F_P1\",\n",
    "         'xaxis' : {'title' : 'F_M1'},\n",
    "         'yaxis' : {'title' : 'F_P1'}}\n",
    "\n",
    "data = Data([trace1])\n",
    "\n",
    "fig = Figure(data=data, layout=layout1)\n",
    "\n",
    "pyo.iplot(fig)"
   ]
  },
  {
   "cell_type": "code",
   "execution_count": null,
   "metadata": {},
   "outputs": [],
   "source": [
    "py.plot(fig, filename=\"Relationship of F_M1 and F_P1\" ,fileopt=\"overwrite\")"
   ]
  },
  {
   "cell_type": "code",
   "execution_count": null,
   "metadata": {
    "collapsed": true
   },
   "outputs": [],
   "source": []
  }
 ],
 "metadata": {
  "kernelspec": {
   "display_name": "Python 3",
   "language": "python",
   "name": "python3"
  },
  "language_info": {
   "codemirror_mode": {
    "name": "ipython",
    "version": 3
   },
   "file_extension": ".py",
   "mimetype": "text/x-python",
   "name": "python",
   "nbconvert_exporter": "python",
   "pygments_lexer": "ipython3",
   "version": "3.6.2"
  }
 },
 "nbformat": 4,
 "nbformat_minor": 2
}
