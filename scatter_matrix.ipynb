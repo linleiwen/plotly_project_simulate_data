{
 "cells": [
  {
   "cell_type": "code",
   "execution_count": null,
   "metadata": {},
   "outputs": [],
   "source": [
    "import numpy as np\n",
    "import pandas as pd\n",
    "import plotly.offline as pyo\n",
    "from plotly.graph_objs import * \n",
    "import plotly.plotly as py\n",
    "pyo.offline.init_notebook_mode()"
   ]
  },
  {
   "cell_type": "markdown",
   "metadata": {},
   "source": [
    "read pickle"
   ]
  },
  {
   "cell_type": "code",
   "execution_count": null,
   "metadata": {
    "collapsed": true
   },
   "outputs": [],
   "source": [
    "dataset1 = pd.read_pickle('F_pickle') \n",
    "dataset2 = pd.read_pickle('M_pickle')"
   ]
  },
  {
   "cell_type": "code",
   "execution_count": null,
   "metadata": {
    "collapsed": true
   },
   "outputs": [],
   "source": [
    "data1 = pd.DataFrame(dataset1)\n",
    "data2 = pd.DataFrame(dataset2)\n"
   ]
  },
  {
   "cell_type": "markdown",
   "metadata": {},
   "source": [
    "rename variables."
   ]
  },
  {
   "cell_type": "code",
   "execution_count": null,
   "metadata": {
    "collapsed": true
   },
   "outputs": [],
   "source": [
    "data1.columns = ['F_M1','F_M2','F_P1','F_p2']\n",
    "data2.columns = ['M_M1','M_M2']"
   ]
  },
  {
   "cell_type": "markdown",
   "metadata": {},
   "source": [
    "merge by index."
   ]
  },
  {
   "cell_type": "code",
   "execution_count": null,
   "metadata": {
    "collapsed": true
   },
   "outputs": [],
   "source": [
    "data = pd.merge(data1,data2,left_index=True,right_index=True) \n",
    "data_pure = data.dropna(axis = 0 , how = 'any' )"
   ]
  },
  {
   "cell_type": "code",
   "execution_count": null,
   "metadata": {
    "collapsed": true
   },
   "outputs": [],
   "source": [
    "data_pure = data_pure.reset_index()"
   ]
  },
  {
   "cell_type": "code",
   "execution_count": null,
   "metadata": {
    "collapsed": true
   },
   "outputs": [],
   "source": [
    "data_pure=data_pure.rename(columns={'index':'time'})"
   ]
  },
  {
   "cell_type": "code",
   "execution_count": null,
   "metadata": {
    "collapsed": true
   },
   "outputs": [],
   "source": [
    "data_pure.time = (data_pure.time -min(data_pure.time))/ np.timedelta64(1, 'D')"
   ]
  },
  {
   "cell_type": "markdown",
   "metadata": {},
   "source": [
    "# Use Scatter Matrix to see any patterns between variables"
   ]
  },
  {
   "cell_type": "markdown",
   "metadata": {},
   "source": [
    "rescale data."
   ]
  },
  {
   "cell_type": "code",
   "execution_count": null,
   "metadata": {
    "collapsed": true
   },
   "outputs": [],
   "source": [
    " standard_data = (data_pure - data_pure.mean()) / (data_pure.max() - data_pure.min())"
   ]
  },
  {
   "cell_type": "markdown",
   "metadata": {},
   "source": [
    "remove constants, since there is no need for them to do Scatter Matrixs"
   ]
  },
  {
   "cell_type": "code",
   "execution_count": null,
   "metadata": {
    "collapsed": true
   },
   "outputs": [],
   "source": [
    "standard_data = standard_data.dropna(axis=1)"
   ]
  },
  {
   "cell_type": "code",
   "execution_count": null,
   "metadata": {
    "collapsed": true
   },
   "outputs": [],
   "source": [
    "from plotly import tools\n",
    "def scatterplotMatrix(df, scatterColumns,color, title):\n",
    "    \n",
    "    fig = tools.make_subplots(rows = len(scatterColumns),\n",
    "                             cols = len(scatterColumns),\n",
    "                             print_grid = True,\n",
    "                             shared_xaxes = True,\n",
    "                             shared_yaxes = True)\n",
    "    \n",
    "    diff = max(df[scatterColumns].max()) - min(df[scatterColumns].min())\n",
    "    \n",
    "    minimum = min(df[scatterColumns].min()) - (diff * 0.1)\n",
    "    maximum = max(df[scatterColumns].max()) + (diff * 0.1)\n",
    "    \n",
    "    for i, column in enumerate(scatterColumns):\n",
    "        fig['layout']['xaxis{}'.format(i + 1)].update({'title' : column,\n",
    "                                                      'range' : [minimum,maximum]})\n",
    "        \n",
    "        for j, row in enumerate(scatterColumns):\n",
    "            fig['layout']['yaxis{}'.format(i + 1)].update({'title' : row,\n",
    "                                                      'range' : [minimum,maximum]})\n",
    "            \n",
    "            if column != row:\n",
    "                if i == 0 and j == 1:\n",
    "                    show = True\n",
    "                else:\n",
    "                    show = False\n",
    "                \n",
    "                    fig.append_trace({'type' : 'scatter',\n",
    "                                     'mode' : 'markers',\n",
    "                                     'x' : df.loc[:, column],\n",
    "                                     'y' : df.loc[:, row],\n",
    "                                     'marker' : {'color' : color,\n",
    "                                                'size' : 3},\n",
    "                                     'showlegend' : False},\n",
    "                                    col = i + 1,\n",
    "                                    row = j + 1)\n",
    "                    \n",
    "    fig['layout'].update({'title' : title,\n",
    "                         'height' : len(scatterColumns * 200),\n",
    "                         'width' : len(scatterColumns * 200)})\n",
    "    pyo.iplot(fig)\n",
    "    return fig"
   ]
  },
  {
   "cell_type": "code",
   "execution_count": null,
   "metadata": {},
   "outputs": [],
   "source": [
    "Scatter = scatterplotMatrix(standard_data,list(standard_data.columns),'red','scatter Matrix of all values')"
   ]
  },
  {
   "cell_type": "code",
   "execution_count": null,
   "metadata": {},
   "outputs": [],
   "source": [
    "py.plot(Scatter, filename=\"scatter Matrix of all values\", fileopt=\"overwrite\")"
   ]
  },
  {
   "cell_type": "code",
   "execution_count": null,
   "metadata": {
    "collapsed": true
   },
   "outputs": [],
   "source": []
  }
 ],
 "metadata": {
  "kernelspec": {
   "display_name": "Python 3",
   "language": "python",
   "name": "python3"
  },
  "language_info": {
   "codemirror_mode": {
    "name": "ipython",
    "version": 3
   },
   "file_extension": ".py",
   "mimetype": "text/x-python",
   "name": "python",
   "nbconvert_exporter": "python",
   "pygments_lexer": "ipython3",
   "version": "3.6.2"
  }
 },
 "nbformat": 4,
 "nbformat_minor": 2
}
