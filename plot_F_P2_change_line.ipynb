{
 "cells": [
  {
   "cell_type": "code",
   "execution_count": null,
   "metadata": {},
   "outputs": [],
   "source": [
    "import numpy as np\n",
    "import pandas as pd\n",
    "import plotly.offline as pyo\n",
    "from plotly.graph_objs import * \n",
    "import plotly.plotly as py\n",
    "pyo.offline.init_notebook_mode()"
   ]
  },
  {
   "cell_type": "markdown",
   "metadata": {},
   "source": [
    "read pickle"
   ]
  },
  {
   "cell_type": "code",
   "execution_count": null,
   "metadata": {
    "collapsed": true
   },
   "outputs": [],
   "source": [
    "dataset1 = pd.read_pickle('F_pickle') \n",
    "dataset2 = pd.read_pickle('M_pickle')"
   ]
  },
  {
   "cell_type": "code",
   "execution_count": null,
   "metadata": {
    "collapsed": true
   },
   "outputs": [],
   "source": [
    "data1 = pd.DataFrame(dataset1)\n",
    "data2 = pd.DataFrame(dataset2)\n"
   ]
  },
  {
   "cell_type": "markdown",
   "metadata": {},
   "source": [
    "rename variables."
   ]
  },
  {
   "cell_type": "code",
   "execution_count": null,
   "metadata": {
    "collapsed": true
   },
   "outputs": [],
   "source": [
    "data1.columns = ['F_M1','F_M2','F_P1','F_p2']\n",
    "data2.columns = ['M_M1','M_M2']"
   ]
  },
  {
   "cell_type": "markdown",
   "metadata": {},
   "source": [
    "merge by index."
   ]
  },
  {
   "cell_type": "code",
   "execution_count": null,
   "metadata": {
    "collapsed": true
   },
   "outputs": [],
   "source": [
    "data = pd.merge(data1,data2,left_index=True,right_index=True) \n",
    "data_pure = data.dropna(axis = 0 , how = 'any' )"
   ]
  },
  {
   "cell_type": "code",
   "execution_count": null,
   "metadata": {
    "collapsed": true
   },
   "outputs": [],
   "source": [
    "data_f2 = data_pure[\"F_p2\"].to_frame()"
   ]
  },
  {
   "cell_type": "code",
   "execution_count": null,
   "metadata": {},
   "outputs": [],
   "source": [
    "data_f2[\"F_p2\"].head()"
   ]
  },
  {
   "cell_type": "code",
   "execution_count": null,
   "metadata": {
    "collapsed": true
   },
   "outputs": [],
   "source": [
    "data_f2[\"pc of diff\"]=data_pure[\"F_p2\"].diff()/data_pure[\"F_p2\"]"
   ]
  },
  {
   "cell_type": "code",
   "execution_count": null,
   "metadata": {},
   "outputs": [],
   "source": [
    "data_f2.head()"
   ]
  },
  {
   "cell_type": "code",
   "execution_count": null,
   "metadata": {},
   "outputs": [],
   "source": [
    "data_f2.index"
   ]
  },
  {
   "cell_type": "code",
   "execution_count": null,
   "metadata": {
    "collapsed": true
   },
   "outputs": [],
   "source": [
    "data_f2.reset_index(inplace=True)\n",
    "data_f2= data_f2.rename(columns={\"index\":\"time\"})"
   ]
  },
  {
   "cell_type": "code",
   "execution_count": null,
   "metadata": {},
   "outputs": [],
   "source": [
    "data_f2.time.head()"
   ]
  },
  {
   "cell_type": "code",
   "execution_count": null,
   "metadata": {
    "collapsed": true
   },
   "outputs": [],
   "source": [
    "trace_1 = {'type' : 'scatter',\n",
    "             'y' : data_f2['pc of diff'],\n",
    "             'x' : data_f2.time,\n",
    "             'name' : 'percent of monthly change of F_p2',\n",
    "             'mode' : 'lines'}"
   ]
  },
  {
   "cell_type": "code",
   "execution_count": null,
   "metadata": {
    "collapsed": true
   },
   "outputs": [],
   "source": [
    "layout_1 = {'title' : 'percent of monthly change of F_p2',\n",
    "         'xaxis' : {'title' : 'Month and Year'},\n",
    "         'yaxis' : {'title' : 'percent of monthly change of F_p2'}}"
   ]
  },
  {
   "cell_type": "code",
   "execution_count": null,
   "metadata": {},
   "outputs": [],
   "source": [
    "fig = Figure(data = [trace_1], layout = layout_1)\n",
    "pyo.iplot(fig)"
   ]
  },
  {
   "cell_type": "code",
   "execution_count": null,
   "metadata": {},
   "outputs": [],
   "source": [
    "py.plot(fig, filename=\"percent of monthly change of F_p2\", fileopt=\"overwrite\")"
   ]
  },
  {
   "cell_type": "code",
   "execution_count": null,
   "metadata": {
    "collapsed": true
   },
   "outputs": [],
   "source": [
    "trace_2 = {'type' : 'scatter',\n",
    "             'y' : data_f2['F_p2'],\n",
    "             'x' : data_f2.time,\n",
    "             'name' : 'Monthly value of F_p2',\n",
    "             'mode' : 'lines'}"
   ]
  },
  {
   "cell_type": "code",
   "execution_count": null,
   "metadata": {
    "collapsed": true
   },
   "outputs": [],
   "source": [
    "layout_2 = {'title' : 'monthly value of F_p2',\n",
    "         'xaxis' : {'title' : 'Month and Year'},\n",
    "         'yaxis' : {'title' : 'Value of F_p2'}}"
   ]
  },
  {
   "cell_type": "code",
   "execution_count": null,
   "metadata": {},
   "outputs": [],
   "source": [
    "fig = Figure(data = [trace_2], layout = layout_2)\n",
    "pyo.iplot(fig)"
   ]
  },
  {
   "cell_type": "code",
   "execution_count": null,
   "metadata": {},
   "outputs": [],
   "source": [
    "py.plot(fig, filename=\"Monthly value of F_p2\", fileopt=\"overwrite\")"
   ]
  },
  {
   "cell_type": "code",
   "execution_count": null,
   "metadata": {
    "collapsed": true
   },
   "outputs": [],
   "source": [
    "data_f2[\"month\"] = data_f2.time.apply(lambda x:x.month)"
   ]
  },
  {
   "cell_type": "code",
   "execution_count": null,
   "metadata": {
    "collapsed": true
   },
   "outputs": [],
   "source": [
    "data_f2 =data_f2.dropna()"
   ]
  },
  {
   "cell_type": "code",
   "execution_count": null,
   "metadata": {
    "collapsed": true
   },
   "outputs": [],
   "source": [
    "data_f2 = data_f2.groupby(\"month\").mean()"
   ]
  },
  {
   "cell_type": "code",
   "execution_count": null,
   "metadata": {},
   "outputs": [],
   "source": [
    "data_f2"
   ]
  },
  {
   "cell_type": "code",
   "execution_count": null,
   "metadata": {
    "collapsed": true
   },
   "outputs": [],
   "source": [
    "trace_3 = {'type' : 'scatter',\n",
    "             'y' : data_f2['pc of diff'],\n",
    "             'x' : data_f2.index,\n",
    "             'name' : 'Average percent of monthly change of F_p2',\n",
    "             'mode' : 'lines'}"
   ]
  },
  {
   "cell_type": "code",
   "execution_count": null,
   "metadata": {
    "collapsed": true
   },
   "outputs": [],
   "source": [
    "layout_3 = {'title' : 'Average percent of monthly change of F_p2',\n",
    "         'xaxis' : {'title' : 'Month'},\n",
    "         'yaxis' : {'title' : 'Change of F_p2'}}"
   ]
  },
  {
   "cell_type": "code",
   "execution_count": null,
   "metadata": {},
   "outputs": [],
   "source": [
    "list(range(1,13))"
   ]
  },
  {
   "cell_type": "code",
   "execution_count": null,
   "metadata": {
    "collapsed": true
   },
   "outputs": [],
   "source": [
    "layout_3['xaxis'].update({'tickmode':'array','tickvals':list(list(range(1,13))),'ticktext':['Jan','Feb','Mar','Apr','May','Jun','Jul','Aug','Sep','Oct','Nov','Dec']})"
   ]
  },
  {
   "cell_type": "code",
   "execution_count": null,
   "metadata": {},
   "outputs": [],
   "source": [
    "fig = Figure(data = [trace_3], layout = layout_3)\n",
    "pyo.iplot(fig)"
   ]
  },
  {
   "cell_type": "code",
   "execution_count": null,
   "metadata": {},
   "outputs": [],
   "source": [
    "py.plot(fig, filename=\"Average percent of monthly change of F_p2\", fileopt=\"overwrite\")"
   ]
  },
  {
   "cell_type": "code",
   "execution_count": null,
   "metadata": {
    "collapsed": true
   },
   "outputs": [],
   "source": [
    "trace_4 = {'type' : 'scatter',\n",
    "             'y' : data_f2['F_p2'],\n",
    "             'x' : data_f2.index,\n",
    "             'name' : 'Average monthly value of F_p2',\n",
    "             'mode' : 'lines'}"
   ]
  },
  {
   "cell_type": "code",
   "execution_count": null,
   "metadata": {
    "collapsed": true
   },
   "outputs": [],
   "source": [
    "layout_4 = {'title' : 'Average monthly value of F_p2',\n",
    "         'xaxis' : {'title' : 'Month'},\n",
    "         'yaxis' : {'title' : 'Average monthly value of F_p2'}}"
   ]
  },
  {
   "cell_type": "code",
   "execution_count": null,
   "metadata": {
    "collapsed": true
   },
   "outputs": [],
   "source": [
    "layout_4['xaxis'].update({'tickmode':'array','tickvals':list(list(range(1,13))),'ticktext':['Jan','Feb','Mar','Apr','May','Jun','Jul','Aug','Sep','Oct','Nov','Dec']})"
   ]
  },
  {
   "cell_type": "code",
   "execution_count": null,
   "metadata": {},
   "outputs": [],
   "source": [
    "fig = Figure(data = [trace_4], layout = layout_4)\n",
    "pyo.iplot(fig)"
   ]
  },
  {
   "cell_type": "code",
   "execution_count": null,
   "metadata": {},
   "outputs": [],
   "source": [
    "py.plot(fig, filename=\"Average monthly value of F_p2\", fileopt=\"overwrite\")"
   ]
  },
  {
   "cell_type": "code",
   "execution_count": null,
   "metadata": {},
   "outputs": [],
   "source": [
    "trace = {'type' : 'histogram',\n",
    "             'x' : data_pure[\"F_p2\"],\n",
    "             'histnorm':'count',\n",
    "             'name' : 'F_p2',\n",
    "             'xbins' :{'size' : 0.001},\n",
    "             'marker': {'color' : '#d81d1399'}\n",
    "        }\n",
    "\n",
    "layout = {\n",
    "    'title' :'F_p2 Value distribution',\n",
    "    'xaxis':{\n",
    "        'title': 'F_p2 Value',\n",
    "        'nticks':15\n",
    "        },\n",
    "    'yaxis':{\n",
    "        'title':'Count'},\n",
    "    'bargap' : 0.2,\n",
    "    'bargroupgap' :0.1\n",
    "}\n",
    "fig = Figure(data=[trace], layout=layout)\n",
    "py.iplot(fig, filename='styled histogram of F_P2 value')"
   ]
  },
  {
   "cell_type": "code",
   "execution_count": null,
   "metadata": {},
   "outputs": [],
   "source": [
    "py.plot(fig, filename=\"styled histogram of F_P2 value\", fileopt=\"overwrite\")"
   ]
  },
  {
   "cell_type": "code",
   "execution_count": null,
   "metadata": {
    "collapsed": true
   },
   "outputs": [],
   "source": []
  },
  {
   "cell_type": "code",
   "execution_count": null,
   "metadata": {
    "collapsed": true
   },
   "outputs": [],
   "source": []
  },
  {
   "cell_type": "code",
   "execution_count": null,
   "metadata": {
    "collapsed": true
   },
   "outputs": [],
   "source": []
  },
  {
   "cell_type": "code",
   "execution_count": null,
   "metadata": {
    "collapsed": true
   },
   "outputs": [],
   "source": []
  },
  {
   "cell_type": "code",
   "execution_count": null,
   "metadata": {
    "collapsed": true
   },
   "outputs": [],
   "source": []
  },
  {
   "cell_type": "code",
   "execution_count": null,
   "metadata": {
    "collapsed": true
   },
   "outputs": [],
   "source": []
  },
  {
   "cell_type": "code",
   "execution_count": null,
   "metadata": {
    "collapsed": true
   },
   "outputs": [],
   "source": []
  }
 ],
 "metadata": {
  "kernelspec": {
   "display_name": "Python 3",
   "language": "python",
   "name": "python3"
  },
  "language_info": {
   "codemirror_mode": {
    "name": "ipython",
    "version": 3
   },
   "file_extension": ".py",
   "mimetype": "text/x-python",
   "name": "python",
   "nbconvert_exporter": "python",
   "pygments_lexer": "ipython3",
   "version": "3.6.2"
  }
 },
 "nbformat": 4,
 "nbformat_minor": 2
}
