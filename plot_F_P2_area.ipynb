{
 "cells": [
  {
   "cell_type": "code",
   "execution_count": null,
   "metadata": {},
   "outputs": [],
   "source": [
    "import numpy as np\n",
    "import pandas as pd\n",
    "import plotly.offline as pyo\n",
    "from plotly.graph_objs import * \n",
    "import plotly.plotly as py\n",
    "pyo.offline.init_notebook_mode()"
   ]
  },
  {
   "cell_type": "markdown",
   "metadata": {},
   "source": [
    "read pickle"
   ]
  },
  {
   "cell_type": "code",
   "execution_count": null,
   "metadata": {
    "collapsed": true
   },
   "outputs": [],
   "source": [
    "dataset1 = pd.read_pickle('F_pickle') \n",
    "dataset2 = pd.read_pickle('M_pickle')"
   ]
  },
  {
   "cell_type": "code",
   "execution_count": null,
   "metadata": {
    "collapsed": true
   },
   "outputs": [],
   "source": [
    "data1 = pd.DataFrame(dataset1)\n",
    "data2 = pd.DataFrame(dataset2)\n"
   ]
  },
  {
   "cell_type": "markdown",
   "metadata": {},
   "source": [
    "rename variables."
   ]
  },
  {
   "cell_type": "code",
   "execution_count": null,
   "metadata": {
    "collapsed": true
   },
   "outputs": [],
   "source": [
    "data1.columns = ['F_M1','F_M2','F_P1','F_p2']\n",
    "data2.columns = ['M_M1','M_M2']"
   ]
  },
  {
   "cell_type": "markdown",
   "metadata": {},
   "source": [
    "merge by index."
   ]
  },
  {
   "cell_type": "code",
   "execution_count": null,
   "metadata": {
    "collapsed": true
   },
   "outputs": [],
   "source": [
    "data = pd.merge(data1,data2,left_index=True,right_index=True) \n",
    "data_pure = data.dropna(axis = 0 , how = 'any' )"
   ]
  },
  {
   "cell_type": "code",
   "execution_count": null,
   "metadata": {
    "collapsed": true
   },
   "outputs": [],
   "source": [
    "subdata = pd.merge(data_pure[\"F_p2\"].to_frame(),data_pure[\"F_p2\"].to_frame(), left_index=True, right_index=True)"
   ]
  },
  {
   "cell_type": "code",
   "execution_count": null,
   "metadata": {},
   "outputs": [],
   "source": [
    "subdata.ix[0,0]= (subdata.ix[0,0]+1)"
   ]
  },
  {
   "cell_type": "code",
   "execution_count": null,
   "metadata": {
    "collapsed": true
   },
   "outputs": [],
   "source": [
    "subdata[\"F_p2_x\"] =subdata[\"F_p2_x\"]*100"
   ]
  },
  {
   "cell_type": "code",
   "execution_count": null,
   "metadata": {
    "collapsed": true
   },
   "outputs": [],
   "source": [
    "subdata[\"F_p2_x\"] = subdata[\"F_p2_x\"].cumsum()"
   ]
  },
  {
   "cell_type": "code",
   "execution_count": null,
   "metadata": {
    "collapsed": true
   },
   "outputs": [],
   "source": [
    "subdata[\"F_p2_y\"] =(subdata[\"F_p2_y\"]+1).cumprod()*100"
   ]
  },
  {
   "cell_type": "code",
   "execution_count": null,
   "metadata": {
    "collapsed": true
   },
   "outputs": [],
   "source": [
    "subdata.reset_index(inplace=True)\n",
    "subdata.columns = [\"time\",'F_p2_single_value','F_p2_compound_value']"
   ]
  },
  {
   "cell_type": "code",
   "execution_count": null,
   "metadata": {},
   "outputs": [],
   "source": [
    "subdata.head(3)"
   ]
  },
  {
   "cell_type": "code",
   "execution_count": null,
   "metadata": {
    "collapsed": true
   },
   "outputs": [],
   "source": [
    "def createStackedQuantArea(df, time, cols, hover, title, yaxisTitle):\n",
    "    traces = []\n",
    "    stackedAreaDF = df.loc[:, ([time] + cols)]\n",
    "    stackedAreaDF.fillna(0, inplace=True)\n",
    "    \n",
    "    cumulative = stackedAreaDF[cols].cumsum(axis = 1)\n",
    "    \n",
    "    cumulAndOrig = cumulative.merge(stackedAreaDF, \n",
    "                                         left_index = True,\n",
    "                                         right_index = True,\n",
    "                                        suffixes = ('_c','_o'))\n",
    "    \n",
    "    for col in cols:\n",
    "        cumulAndOrig[col + '_t'] = \"<b>\" + str(col)[:-6]  + \"</b><br>\" + str(hover) + cumulAndOrig[col + \"_o\"].apply(lambda x:\n",
    "            \"{:,}\".format(int(round(x, 0))))\n",
    "        \n",
    "        traces.append({'type' : 'scatter',\n",
    "                      'x' : cumulAndOrig[time],\n",
    "                      'y' : cumulAndOrig[col + \"_c\"],\n",
    "                       'text' : cumulAndOrig[col + \"_t\"],\n",
    "                       'hoverinfo' : 'text+x',\n",
    "                      'name' : col[:-6],\n",
    "                      'mode' : 'lines',\n",
    "                      'fill' : 'tonexty'})\n",
    "        \n",
    "    data = Data(traces)\n",
    "    layout = {'title' : title,\n",
    "             'xaxis' : {'title' : time},\n",
    "             'yaxis' : {'title' : yaxisTitle,\n",
    "                       'tickprefix' : '$'},\n",
    "             'hovermode' : 'closest'}\n",
    "    fig = Figure(data = data, layout = layout)\n",
    "    pyo.iplot(fig)\n",
    "    return cumulAndOrig,fig\n",
    "    "
   ]
  },
  {
   "cell_type": "code",
   "execution_count": null,
   "metadata": {},
   "outputs": [],
   "source": [
    "data, fig = createStackedQuantArea(subdata,\"time\",['F_p2_single_value','F_p2_compound_value'],'Total Fund: ',\"Accumulated value of single and that of compound\",'Fund Of Single and Compound')"
   ]
  },
  {
   "cell_type": "code",
   "execution_count": null,
   "metadata": {},
   "outputs": [],
   "source": [
    "py.plot(fig, filename=\"Accumulated value of single and compound\", fileopt=\"overwrite\")"
   ]
  },
  {
   "cell_type": "code",
   "execution_count": null,
   "metadata": {
    "collapsed": true
   },
   "outputs": [],
   "source": [
    "def createStackedPropArea(df, time, cols, hover, title, yaxisTitle): \n",
    "    PCcols = []\n",
    "    traces = []\n",
    "    \n",
    "    stackedAreaDF = df.loc[:, ([time] + cols)]\n",
    "    stackedAreaDF.fillna(0, inplace=True)\n",
    "        \n",
    "    stackedAreaDF['Total'] = stackedAreaDF[cols].sum(axis =1)\n",
    "    \n",
    "    for col in cols:\n",
    "        stackedAreaDF[\"pc_\"+str(col)] = stackedAreaDF[col] / stackedAreaDF['Total']\n",
    "        PCcols.append(\"pc_\"+str(col))\n",
    "        \n",
    "    stackedPCAreaDF = stackedAreaDF[PCcols].cumsum(axis=1)\n",
    "    stackedAreaData = stackedAreaDF[PCcols + [time]].merge(stackedPCAreaDF[PCcols], \n",
    "                                        left_index = True,\n",
    "                                         right_index = True,\n",
    "                                        suffixes = ('_o','_c'))\n",
    "\n",
    "    for col in PCcols:       \n",
    "        stackedAreaData[col + '_t'] = \"<b>\" + str(col)[3:-6]  + \"</b><br>\" + str(hover) + stackedAreaData[col + \"_o\"].apply(lambda x:\n",
    "            \"{:.0%}\".format(x))\n",
    "        \n",
    "        \n",
    "        traces.append({'type' : 'scatter',\n",
    "                      'x' : stackedAreaData[time],\n",
    "                      'y' : stackedAreaData[col + \"_c\"],\n",
    "                       'text' : stackedAreaData[col + \"_t\"],\n",
    "                       'hoverinfo' : 'text+x',\n",
    "                      'name' : col[3:-6],\n",
    "                      'mode' : 'lines',\n",
    "                      'fill' : 'tonexty'})\n",
    "    \n",
    "    data = Data(traces)\n",
    "    layout = {'title' : title,\n",
    "             'xaxis' : {'title' : time},\n",
    "             'yaxis' : {'title' : yaxisTitle,\n",
    "                       'tickformat' : '%'},\n",
    "              'hovermode' : 'closest'}\n",
    "    fig = Figure(data = data, layout = layout)\n",
    "    pyo.iplot(fig)\n",
    "\n",
    "    return stackedAreaData,fig\n",
    "    \n"
   ]
  },
  {
   "cell_type": "code",
   "execution_count": null,
   "metadata": {},
   "outputs": [],
   "source": [
    "data, fig = createStackedPropArea(subdata,\"time\",['F_p2_single_value','F_p2_compound_value'],'Odds of Fund: ',\"Odds of value of Single and value of Compound\",'Odds of Fund Of Single and Compound')"
   ]
  },
  {
   "cell_type": "code",
   "execution_count": null,
   "metadata": {},
   "outputs": [],
   "source": [
    "py.plot(fig, filename=\"Odds of value of Single and value of Compound\" ,fileopt=\"overwrite\")"
   ]
  },
  {
   "cell_type": "code",
   "execution_count": null,
   "metadata": {
    "collapsed": true
   },
   "outputs": [],
   "source": []
  }
 ],
 "metadata": {
  "kernelspec": {
   "display_name": "Python 3",
   "language": "python",
   "name": "python3"
  },
  "language_info": {
   "codemirror_mode": {
    "name": "ipython",
    "version": 3
   },
   "file_extension": ".py",
   "mimetype": "text/x-python",
   "name": "python",
   "nbconvert_exporter": "python",
   "pygments_lexer": "ipython3",
   "version": "3.6.2"
  }
 },
 "nbformat": 4,
 "nbformat_minor": 2
}
